{
 "cells": [
  {
   "cell_type": "markdown",
   "metadata": {},
   "source": [
    "# Group Members\n",
    " ___\n",
    "- **Opio Arthur Moses** <br/>\n",
    "    Registration Number: \n",
    "    ___\n",
    "   \n",
    "- **Jonathan Mukiibi:** <br/>\n",
    "   Registration Number: 2018/HD05/1968U\n",
    " ___\n",
    "- **Omara Patrick:** <br/>\n",
    "Student Number: 216018844 <br/>\n",
    "Registration Number: 2016/HD05/339U <br/>\n",
    " ___\n",
    "- **Jerome Abura: ** <br/>\n",
    "Student Number: 203001168<br/>\n",
    "Registration Number: 2014/HD05/2094U<br/>\n",
    " ___\n",
    "- **Wabwire Robert:**<br/>\n",
    "Student Number: 2018/HD05/1982U<br/>\n",
    " ___"
   ]
  },
  {
   "cell_type": "markdown",
   "metadata": {},
   "source": [
    "# Instructions\n",
    "\n",
    "<b> 1. Add a field to the Student class to remember their grade average (hint, edit the __init__ method).</b> <br/>\n",
    "\n",
    "<b> 2. Then, modify the tostring method to return this value in the string.</b> <br/>\n",
    "\n",
    "<b> 3. Add a method setgrade to allow the grade average to be changed.</b> <br/>\n",
    "\n",
    "<b> 4. Add a new attribute to the Student class, regyear (year of registration).</b> <br/>\n",
    "\n",
    "<b> 5. Add a class variable to your program that keeps count of the number of students. </b> <br/>"
   ]
  },
  {
   "cell_type": "code",
   "execution_count": 95,
   "metadata": {},
   "outputs": [],
   "source": [
    "\n",
    "class Student:\n",
    "    \n",
    "    number_of_students= 0\n",
    "    \n",
    "    def __init__(self,firstname,lastname,regno,gradeaverage,regyear):\n",
    "        self.firstname = firstname\n",
    "        self.lastname = lastname\n",
    "        self.regno = regno\n",
    "        self.gradeaverage = gradeaverage\n",
    "        self.regyear=regyear\n",
    "\n",
    "    def tostring(self):\n",
    "        description = '| STUDENT NAME:'+ self.lastname + ', ' + self.firstname + ' | REGISTRATION NUMBER: ' + self.regno + '| GRADE AVERAGE:' + self.gradeaverage +' | REGISTRATION YEAR: '+ self.regyear\n",
    "        return description\n",
    "    \n",
    "    def setgrade(self,gradeaverage):\n",
    "        self.gradeaverage = gradeaverage\n",
    "        return gradeaverage\n",
    "    \n",
    "    def num_students(self,number_of_students):\n",
    "        num_students=self.number_of_students + number_of_students\n",
    "        return number_students\n"
   ]
  },
  {
   "cell_type": "markdown",
   "metadata": {},
   "source": [
    "# Instructions\n",
    "<b> Extend the definition of the Course class so that lecturers can be added.</b>"
   ]
  },
  {
   "cell_type": "code",
   "execution_count": 96,
   "metadata": {},
   "outputs": [],
   "source": [
    "class Course:\n",
    "    \n",
    "    def __init__(self,coursetitle):\n",
    "        self.coursetitle = coursetitle\n",
    "        self.students = []\n",
    "        self.lecturers = []\n",
    "        \n",
    "    def addstudent(self,newstudent):\n",
    "        self.students.append(newstudent)\n",
    "        \n",
    "    def addlecturer(self,newlecturer):\n",
    "        self.lecturers.append(newlecturer)\n",
    "    \n",
    "    def tostring(self):\n",
    "        str = self.coursetitle + '\\n'\n",
    "        str = str + '\\n STUDENTS ENROLLED:\\n'\n",
    "        for s in self.students:\n",
    "            str = str + s.tostring() + '\\n'\n",
    "        str = str + '\\n LECTURERS REGISTERED:\\n'\n",
    "        for s in self.lecturers:\n",
    "            str = str + s.tostring() + '\\n'\n",
    "        return str"
   ]
  },
  {
   "cell_type": "markdown",
   "metadata": {},
   "source": [
    "# Instructions \n",
    " <b> 1. We maybe want a special class for masters students which has methods for managing their project: Use class  inheritance create a new class called MastersStudent </b>\n",
    " \n",
    "<b> 2. A new tostring method which overrides the parent class tostring method. This one should also display the status of the student as a masters student.</b>"
   ]
  },
  {
   "cell_type": "code",
   "execution_count": 97,
   "metadata": {},
   "outputs": [],
   "source": [
    "class MasterStudent(Student):\n",
    "    def __init__(self,status):\n",
    "        self.status=status\n",
    "\n",
    "    def tostring(self):\n",
    "        return self.status\n",
    "    \n",
    "    def make_concept(self):\n",
    "        print(\"This is my concept paper\")\n",
    "    \n",
    "    def make_proposal(self):\n",
    "        print(\"This is my proposal paper\")\n",
    "    \n",
    "    def make_dissertation(self):\n",
    "        print(\"This is my dissertation \")"
   ]
  },
  {
   "cell_type": "markdown",
   "metadata": {},
   "source": [
    "# Instructions\n",
    "<b> Create a new class Lecturer, and extend the definition of the Course class so that lecturers can be added. </b>"
   ]
  },
  {
   "cell_type": "code",
   "execution_count": 98,
   "metadata": {},
   "outputs": [],
   "source": [
    "class Lecturer:\n",
    "    def __init__(self,firstname,lastname):\n",
    "        self.firstname = firstname\n",
    "        self.lastname = lastname\n",
    "        \n",
    "    def tostring(self):\n",
    "            description = self.lastname + ', ' + self.firstname\n",
    "            return description"
   ]
  },
  {
   "cell_type": "code",
   "execution_count": 99,
   "metadata": {},
   "outputs": [],
   "source": [
    "#creating instances\n",
    "student1 = Student('Jimi','Hendrix','123456','45','2018')\n",
    "student2 = Student('Frank','Zappa','234567','70','2018')\n",
    "student3 = Student('Ringo','Starr','345678','55','2018')\n",
    "lecturer1 = Lecturer('Engineer','Bainomugisha')\n",
    "\n",
    "course1 = Course('MSc Computer Science')\n",
    "course1.addstudent(student1)\n",
    "course1.addlecturer(lecturer1)\n",
    "course1.addstudent(student2)\n",
    "course1.addstudent(student3)\n",
    "newaverage=student1.setgrade('70')\n",
    "#This one should also display the status of the student as a masters student.\n",
    "masters= MasterStudent('This is a masters student') "
   ]
  },
  {
   "cell_type": "code",
   "execution_count": 100,
   "metadata": {},
   "outputs": [
    {
     "name": "stdout",
     "output_type": "stream",
     "text": [
      "This is a masters student\n",
      "The new average is 70\n",
      "MSc Computer Science\n",
      "\n",
      " STUDENTS ENROLLED:\n",
      "| STUDENT NAME:Hendrix, Jimi | REGISTRATION NUMBER: 123456| GRADE AVERAGE:70 | REGISTRATION YEAR: 2018\n",
      "| STUDENT NAME:Zappa, Frank | REGISTRATION NUMBER: 234567| GRADE AVERAGE:70 | REGISTRATION YEAR: 2018\n",
      "| STUDENT NAME:Starr, Ringo | REGISTRATION NUMBER: 345678| GRADE AVERAGE:55 | REGISTRATION YEAR: 2018\n",
      "\n",
      " LECTURERS REGISTERED:\n",
      "Bainomugisha, Engineer\n",
      "\n"
     ]
    }
   ],
   "source": [
    "print(masters.tostring())\n",
    "print ('The new average is ' + newaverage)\n",
    "print (course1.tostring())"
   ]
  },
  {
   "cell_type": "markdown",
   "metadata": {},
   "source": [
    "# Instructions\n",
    "<b> The aim is to match the match-words and not match the reject-words, using a regular expression.</b>"
   ]
  },
  {
   "cell_type": "code",
   "execution_count": 101,
   "metadata": {},
   "outputs": [],
   "source": [
    "\n",
    "import re\n",
    "import regexgolf\n",
    "\n",
    "def verify(regex, winners, losers):\n",
    "    \"Return true iff the regex matches all winners but no losers.\"\n",
    "    missed_winners = {W for W in winners if not re.search(regex, W)}\n",
    "    matched_losers = {L for L in losers if re.search(regex, L)}\n",
    "    if missed_winners:\n",
    "      print (\"Error: should match but did not:\", ', '.join(missed_winners))\n",
    "    if matched_losers:\n",
    "        print (\"Error: should not match but did:\", ', '.join(matched_losers))\n",
    "        return not (missed_winners or matched_losers)\n",
    "\n",
    "def puzzlewords(puzzle):\n",
    "    \"Returns a dictionary containing the words to match and the words to reject\"\n",
    "    matchwords = []\n",
    "    rejectwords = []\n",
    "    result = {}\n",
    "    try:\n",
    "        if (puzzle<1) | (puzzle>30):\n",
    "            print (\"Need puzzle between 1 and 30\")\n",
    "            return []\n",
    "        \n",
    "        content = open('wordlist%d.txt' % puzzle,'r').read()\n",
    "        \n",
    "        matchlist = True\n",
    "        for line in content.splitlines():        \n",
    "            if (line == ''):\n",
    "                matchlist = False\n",
    "            else:\n",
    "                if matchlist:\n",
    "                    matchwords.append(line)\n",
    "                else:\n",
    "                    rejectwords.append(line)\n",
    "        \n",
    "        result['matchwords'] = matchwords\n",
    "        result['rejectwords'] = rejectwords   \n",
    "        return result\n",
    "    except (TypeError, ValueError):\n",
    "        print (\"Need puzzle to be a number\")\n",
    "        return []\n",
    "    except (IOError) as e:\n",
    "        print (\"Puzzle files not found, please use a puzzle value between 1 and 11\")\n",
    "        return []\n",
    "\n",
    "def verifypuzzle(regex,puzzle):\n",
    "    \"Verifies if the regular expression solves the puzzle\"\n",
    "    words = puzzlewords(puzzle)\n",
    "    if (len(words)>0):\n",
    "        return verify(regex,words['matchwords'],words['rejectwords'])\n",
    "    else:\n",
    "        print (\"Invalid puzzle!\")\n"
   ]
  },
  {
   "cell_type": "code",
   "execution_count": 102,
   "metadata": {},
   "outputs": [
    {
     "name": "stdout",
     "output_type": "stream",
     "text": [
      "['mick', 'rick', 'trick', 'candlestick', 'crick']\n",
      "['strategic', 'tricked', 'picked', 'icky', 'yickicky']\n"
     ]
    }
   ],
   "source": [
    "print (regexgolf.puzzlewords(2)['matchwords'])\n",
    "print (regexgolf.puzzlewords(2)['rejectwords'])\n",
    "\n",
    "\n",
    "regex1 = re.compile(r'\\.*oo.*')\n",
    "regex2 =re.compile(r'.*ck\\b')\n",
    "regex3 = re.compile(r'.*d\\b|\\ba|.*f\\b|.*ba\\b|\\bba.*')\n",
    "regex4 = re.compile(r'\\b.*bab.*')\n",
    "regex5 = re.compile(r'[\\w]{7}')\n",
    "regex6 = re.compile(r'\\b.o.*?|\\bw.*|te\\b')\n",
    "regex7 = re.compile(r'\\b.*and.*|\\babc.*|\\bbee.*')\n",
    "regex8 = re.compile(r'\\b[^z]')\n",
    "regex10 = re.compile(r'\\b.*oo|ee|ba\\b|a\\b')\n",
    "\n",
    "\n"
   ]
  }
 ],
 "metadata": {
  "kernelspec": {
   "display_name": "Python 3",
   "language": "python",
   "name": "python3"
  },
  "language_info": {
   "codemirror_mode": {
    "name": "ipython",
    "version": 3
   },
   "file_extension": ".py",
   "mimetype": "text/x-python",
   "name": "python",
   "nbconvert_exporter": "python",
   "pygments_lexer": "ipython3",
   "version": "3.6.4"
  }
 },
 "nbformat": 4,
 "nbformat_minor": 2
}
